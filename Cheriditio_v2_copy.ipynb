{
  "nbformat": 4,
  "nbformat_minor": 0,
  "metadata": {
    "colab": {
      "name": "Cheriditio v2 copy",
      "provenance": [],
      "collapsed_sections": [],
      "authorship_tag": "ABX9TyPOP9ZSJoXTOl299CO31IJB",
      "include_colab_link": true
    },
    "kernelspec": {
      "name": "python3",
      "display_name": "Python 3"
    }
  },
  "cells": [
    {
      "cell_type": "markdown",
      "metadata": {
        "id": "view-in-github",
        "colab_type": "text"
      },
      "source": [
        "<a href=\"https://colab.research.google.com/github/erraydin/Deep-Optimal-Stopping/blob/main/Cheriditio_v2_copy.ipynb\" target=\"_parent\"><img src=\"https://colab.research.google.com/assets/colab-badge.svg\" alt=\"Open In Colab\"/></a>"
      ]
    },
    {
      "cell_type": "code",
      "metadata": {
        "id": "5laR4VQ-TqzX",
        "colab": {
          "base_uri": "https://localhost:8080/",
          "height": 34
        },
        "outputId": "6c3fcf40-37f8-43fc-de14-b38fe4fb2364"
      },
      "source": [
        "import numpy as np\n",
        "import torch\n",
        "import torch.nn as nn\n",
        "from torch.utils.data import Dataset, DataLoader\n",
        "device = torch.device('cuda:0' if torch.cuda.is_available() else 'cpu')\n",
        "print(device)"
      ],
      "execution_count": null,
      "outputs": [
        {
          "output_type": "stream",
          "text": [
            "cpu\n"
          ],
          "name": "stdout"
        }
      ]
    },
    {
      "cell_type": "code",
      "metadata": {
        "id": "9Q3tUMlcDCzz"
      },
      "source": [
        ""
      ],
      "execution_count": null,
      "outputs": []
    },
    {
      "cell_type": "code",
      "metadata": {
        "id": "oYzeomXTUMM6"
      },
      "source": [
        "#Variables\n",
        "d = 2   #dimension of GBM\n",
        "r = 0.05  #interest rate\n",
        "divident = 0.1  #divident rate\n",
        "mu = (r - divident) * np.ones(shape = (d, ), dtype = \"float32\")\n",
        "sigma = 0.2 * np.ones(shape = (d, ), dtype = \"float32\")\n",
        "S0 = 100.0 * np.ones(shape = (d, ), dtype = \"float32\") #initial price\n",
        "k = 100.0    #Strike price\n",
        "T =3.0    #final time\n",
        "dt = 1 / 3  #time intervals\n",
        "N = 9  # number of intervals\n",
        "batch_size = 8192\n",
        "total_paths = 8192 * (3000 + d)\n",
        "number_of_training_steps = int(total_paths / batch_size)\n",
        "learning_rate = 0.001"
      ],
      "execution_count": null,
      "outputs": []
    },
    {
      "cell_type": "code",
      "metadata": {
        "id": "fO6BmAiBUdY4"
      },
      "source": [
        "#Simulate Geometric brownian motion paths \n",
        "#Warning: memory inefficient, simulating directly 8192 * 3005 many paths of 5 dimension requires around 23-24 gb of ram\n",
        "def GBM(d, mu, sigma, S0, T, dt, number_of_paths):\n",
        "    \"\"\"\n",
        "    Simulates number_of_paths many d dimensional geometric brownian motion (S1,...,Sd) sample paths\n",
        "    from 0 to T with dt increments.\n",
        "    \n",
        "    Arguments:\n",
        "    d = dimension of the GBM to be simulated    \n",
        "    mu = drift values in an array of shape [1,d]\n",
        "    sigma = volatilities in an array of shape [1,d]\n",
        "    S0 = initial values of the GBM in an array of shape [1, d]\n",
        "    T = specifies the time interval [0, T] in which the GBM will be simulated\n",
        "    dt = specifies the time increments\n",
        "    number_of_paths = number of sample paths to be simulated\n",
        "    \n",
        "    Returns:\n",
        "    number_of_paths many simulations of d dimensional GBM in a tensor of shape [number_of_paths, d, n] where \n",
        "    n = T/dt\n",
        "    \n",
        "    \"\"\"\n",
        "    \n",
        "    n = round(T/dt)\n",
        "    t = np.linspace(0, T, n+1, dtype = \"float32\").reshape(1, n+1)\n",
        "    t = np.dot(np.ones((d,1), dtype = \"float32\"), t)\n",
        "    W = np.random.randn(number_of_paths, d, n).astype(\"float32\")\n",
        "    W= np.insert(W, 0, 0, axis = 2)\n",
        "    W = np.cumsum(W, axis = 2)*np.sqrt(dt)                #Standart Brownian Motion\n",
        "    a=np.dot(np.diag(mu-0.5*np.multiply(sigma, sigma)),t) #(mu-1/2sigma^2)t\n",
        "    a = a.reshape([1, a.shape[0], a.shape[1]])\n",
        "    b= np.diag(sigma).reshape(1,d,d)                      \n",
        "    c= np.einsum('rmn,rnd->rmd', b, W)                    #sigma.W\n",
        "    X = a+c\n",
        "    S = np.einsum('rmn, rnd->rmd', np.diag(S0).reshape(1, d, d), np.exp(X)).reshape(number_of_paths, d, n+1)  #GBM\n",
        "    #print(np.shape(S))\n",
        "    #plt.plot(t.T, S[1, :, :].T) #plot\n",
        "    #plt.plot(t.T, S[2, :, :].T)\n",
        "    return S"
      ],
      "execution_count": null,
      "outputs": []
    },
    {
      "cell_type": "code",
      "metadata": {
        "id": "9LV9zXY1AxQA"
      },
      "source": [
        "#computes g values of a brownian motion of the form of output of above function\n",
        "def g(x):\n",
        "  y = np.maximum(np.amax(x - k, axis = 1), 0)\n",
        "  z = np.ones((x.shape[0], x.shape[2]))\n",
        "  z[:, 0] = np.zeros((x.shape[0]))\n",
        "  z = -r*dt*np.cumsum(z, axis =1)\n",
        "  z = np.exp(z)\n",
        "  return y * z"
      ],
      "execution_count": null,
      "outputs": []
    },
    {
      "cell_type": "code",
      "metadata": {
        "id": "0-3sq8ZhAyA4"
      },
      "source": [
        "#Creates neural network\n",
        "def create_model():\n",
        "    \"\"\"\n",
        "    Creates a neural network with 2 hidden layers of 40+d units\n",
        "    Includes batch norm layers\n",
        "    \"\"\"\n",
        "    model = nn.Sequential(\n",
        "    nn.Linear(d, d+40),\n",
        "    nn.BatchNorm1d(40+d),\n",
        "    nn.ReLU(),\n",
        "    nn.Linear(d+40, d+40),\n",
        "    nn.BatchNorm1d(d+40),\n",
        "    nn.ReLU(),\n",
        "    nn.Linear(d+40, 1),\n",
        "    nn.Sigmoid()\n",
        "    )\n",
        "    return model"
      ],
      "execution_count": null,
      "outputs": []
    },
    {
      "cell_type": "code",
      "metadata": {
        "id": "slUm5aj1mDbO"
      },
      "source": [
        "#initiates dictionaries that will contain functions F (soft stopping decision),f (stopping decision) and l (stopping time) from the paper\n",
        "def fN(x):\n",
        "    return 1\n",
        "def FN(x):\n",
        "    return 1.0\n",
        "def lN(x):    #can take input a vector of values\n",
        "    \"\"\"\n",
        "    Argument:\n",
        "    x: a tensor of shape (k,d,1) which contains Nth values of brownian paths for k samples\n",
        "    Outputs:\n",
        "    Stopping times as a tensor of shape (k, ). (in this case it will just output [N-1, N-1, ..., N-1])\n",
        "    \"\"\"\n",
        "    ans = N  * np.ones(shape = (x.shape[0], ))\n",
        "    ans = ans.astype(int)\n",
        "    return ans\n",
        "\n",
        "f = {N : fN}   #dictionary containing little f functions from the paper  (Decision functions to stop)\n",
        "F = {N : FN}   #dictionary containing big F functions  (Soft decision functions i.e models)\n",
        "l= {N : lN}  #dictionary containing little l functions (Stopping times) "
      ],
      "execution_count": null,
      "outputs": []
    },
    {
      "cell_type": "code",
      "metadata": {
        "id": "5VZCu35ImGax"
      },
      "source": [
        "X = GBM(d, mu, sigma, S0, T, dt, total_paths)\n",
        "X = X.reshape(3000+d, 8192, 2, 10)\n"
      ],
      "execution_count": null,
      "outputs": []
    },
    {
      "cell_type": "code",
      "metadata": {
        "id": "YgXW2FhmDWlG"
      },
      "source": [
        ""
      ],
      "execution_count": null,
      "outputs": []
    },
    {
      "cell_type": "code",
      "metadata": {
        "id": "GYtGpn0pmJzu"
      },
      "source": [
        "def train(model, i, optimizer):\n",
        "  for j in range(number_of_training_steps):\n",
        "    batch = X[j]\n",
        "    batch_now = batch[:, :, i]\n",
        "    batch_gvalues = g(batch)\n",
        "    batch_gvalues_now = batch_gvalues[:, i].reshape(1, batch_size)\n",
        "    batch = torch.from_numpy(batch).float().to(device)\n",
        "    Z = batch_gvalues[range(batch_size), l[i+1](batch)].reshape(1, batch_size)\n",
        "    batch_now = torch.from_numpy(batch_now).float().to(device)\n",
        "    batch_gvalues_now = torch.from_numpy(batch_gvalues_now).float().to(device)\n",
        "    Z = torch.from_numpy(Z).float().to(device)\n",
        "\n",
        "    #compute loss\n",
        "    z = model(batch_now)\n",
        "    ans1 = torch.mm(batch_gvalues_now, z)\n",
        "    ans2 = torch.mm( Z, 1.0 - z)\n",
        "    loss = - 1 / batch_size * (ans1 + ans2)\n",
        "    \n",
        "    #apply updates\n",
        "    optimizer.zero_grad()\n",
        "    loss.backward()\n",
        "    optimizer.step()\n",
        "\n",
        "  print(\"one step done\")\n",
        "\n",
        "\n"
      ],
      "execution_count": null,
      "outputs": []
    },
    {
      "cell_type": "code",
      "metadata": {
        "id": "0KD1J0gsB8sR",
        "colab": {
          "base_uri": "https://localhost:8080/",
          "height": 153
        },
        "outputId": "fe49d773-9f54-40cf-f199-cc8f9ec17f16"
      },
      "source": [
        "for i in range(N-1, 0, -1):    #i goes like N-1, ..., 1\n",
        "    model = create_model().to(device)\n",
        "    optimizer = torch.optim.Adam(model.parameters(), lr = learning_rate)\n",
        "\n",
        "    train(model, i, optimizer)\n",
        "    F.update({i  : model})\n",
        "    \n",
        "    def fi(x, i=i):\n",
        "        func = F[i].eval()\n",
        "        ans = torch.ceil(func(x) - 1/2)\n",
        "        return ans\n",
        "    f.update({i : fi})\n",
        "    \n",
        "    def li(x, i=i):\n",
        "        a= f[i](x[:,:,i]).cpu().detach().numpy().reshape(list(x[:,:,i].size())[0], )\n",
        "        ans = (i)*a + np.multiply(l[i+1](x), (1-a))\n",
        "        ans = ans.astype(\"int32\")\n",
        "        \n",
        "        return ans\n",
        "    l.update({i : li})"
      ],
      "execution_count": null,
      "outputs": [
        {
          "output_type": "stream",
          "text": [
            "one step done\n",
            "one step done\n",
            "one step done\n",
            "one step done\n",
            "one step done\n",
            "one step done\n",
            "one step done\n",
            "one step done\n"
          ],
          "name": "stdout"
        }
      ]
    },
    {
      "cell_type": "code",
      "metadata": {
        "id": "VcrWPP1mHPlj",
        "colab": {
          "base_uri": "https://localhost:8080/",
          "height": 51
        },
        "outputId": "1ec13eb4-d121-4d22-ec50-cf5b4d63b813"
      },
      "source": [
        "total_paths = 2 ** 21\n",
        "X = GBM(d, mu, sigma, S0, T, dt, total_paths)\n",
        "g_val = g(X)\n",
        "X = torch.from_numpy(X).float().to(device)\n",
        "Z = g_val[range(total_paths), l[1](X)]\n",
        "price = 1 / total_paths * np.sum(Z)\n",
        "print(price)"
      ],
      "execution_count": null,
      "outputs": [
        {
          "output_type": "stream",
          "text": [
            "torch.float32\n",
            "13.866001002378988\n"
          ],
          "name": "stdout"
        }
      ]
    }
  ]
}